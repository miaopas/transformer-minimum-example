{
 "cells": [
  {
   "cell_type": "code",
   "execution_count": 4,
   "metadata": {},
   "outputs": [],
   "source": [
    "import torch\n",
    "import numpy as np\n",
    "from models.vit_lit import VitModel\n",
    "import matplotlib.pyplot as plt"
   ]
  },
  {
   "cell_type": "code",
   "execution_count": 7,
   "metadata": {},
   "outputs": [],
   "source": [
    "model = VitModel.load_from_checkpoint('runs/Vit_minimum/version_13/checkpoints/Vit_minimum-epoch=35-valid_loss=2.49e-04.ckpt')\n",
    "def generate1():\n",
    "    a = np.array([np.random.randn()+3,np.random.randn()+3, np.random.randn()-3,np.random.randn()-3])\n",
    "    a = (a - np.min(a))/(np.max(a)-np.min(a))\n",
    "\n",
    "    return np.array([np.array(a).reshape(2,2)])\n",
    "\n",
    "def generate2():\n",
    "    a = np.array([np.random.randn()-3,np.random.randn()-3, np.random.randn()+3,np.random.randn()+3])\n",
    "    a = (a - np.min(a))/(np.max(a)-np.min(a))\n",
    "\n",
    "    return np.array([np.array(a).reshape(2,2)])\n",
    "\n",
    "data_num = 4\n",
    "inputs = np.array([ generate1() for _ in range(data_num)] + [ generate2() for _ in range(data_num)])\n",
    "outputs = np.array([ 0 for _ in range(data_num)] + [ 1 for _ in range(data_num)])\n",
    "\n",
    "\n",
    "\n",
    "\n",
    "input = torch.tensor(inputs, dtype=torch.float32)\n",
    "output = torch.tensor(outputs, dtype=torch.int64)"
   ]
  },
  {
   "cell_type": "code",
   "execution_count": 14,
   "metadata": {},
   "outputs": [
    {
     "data": {
      "text/plain": [
       "tensor([[-5.7103,  2.8324]], grad_fn=<AddmmBackward0>)"
      ]
     },
     "execution_count": 14,
     "metadata": {},
     "output_type": "execute_result"
    },
    {
     "data": {
      "image/png": "[encoded data removed]",
      "text/plain": [
       "<Figure size 288x288 with 1 Axes>"
      ]
     },
     "metadata": {
      "needs_background": "light"
     },
     "output_type": "display_data"
    }
   ],
   "source": [
    "model.eval()\n",
    "r, w = model(input[[7]])\n",
    "w = w[0][0,0]\n",
    "plt.matshow(w.detach().numpy())\n",
    "r"
   ]
  },
  {
   "cell_type": "code",
   "execution_count": null,
   "metadata": {},
   "outputs": [],
   "source": []
  }
 ],
 "metadata": {
  "kernelspec": {
   "display_name": "Python 3.10.4 ('env1': venv)",
   "language": "python",
   "name": "python3"
  },
  "language_info": {
   "codemirror_mode": {
    "name": "ipython",
    "version": 3
   },
   "file_extension": ".py",
   "mimetype": "text/x-python",
   "name": "python",
   "nbconvert_exporter": "python",
   "pygments_lexer": "ipython3",
   "version": "3.10.4"
  },
  "orig_nbformat": 4,
  "vscode": {
   "interpreter": {
    "hash": "f79a8a4565eebfe4c70019c336b9dc0c1535a153e32b952a653c6e06f8f61989"
   }
  }
 },
 "nbformat": 4,
 "nbformat_minor": 2
}
